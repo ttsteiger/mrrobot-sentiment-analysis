{
 "cells": [
  {
   "cell_type": "code",
   "execution_count": 1,
   "metadata": {},
   "outputs": [],
   "source": [
    "import nltk\n",
    "import os\n",
    "import pandas as pd\n",
    "import re"
   ]
  },
  {
   "cell_type": "markdown",
   "metadata": {},
   "source": [
    "## Data Import & Cleaning\n",
    "\n",
    "Load files, remove unneccessary information and prepare for analysis."
   ]
  },
  {
   "cell_type": "code",
   "execution_count": 2,
   "metadata": {},
   "outputs": [
    {
     "name": "stdout",
     "output_type": "stream",
     "text": [
      "Directory subtitles/S02 not found.\n",
      "Directory subtitles/S03 not found.\n",
      "Directory subtitles/S04 not found.\n"
     ]
    }
   ],
   "source": [
    "# directory specifications\n",
    "subtitle_dir = \"subtitles\"\n",
    "seasons = [\"S01\", \"S02\", \"S03\", \"S04\"]\n",
    "\n",
    "# store imported file content\n",
    "columns = ('season', 'episode', 'title', 'subtitles')\n",
    "df = pd.DataFrame(columns=columns)\n",
    "\n",
    "# loop through all season folders\n",
    "for s in seasons:\n",
    "    directory = os.getcwd() + \"/subtitles\" + \"/\" + s\n",
    "    \n",
    "    # loop through files if directory exists\n",
    "    try:\n",
    "        for f in os.listdir(directory):\n",
    "            if f.endswith(\".srt\"):\n",
    "                file_path = os.path.join(directory, f)\n",
    "                file = open(file_path, mode='r', encoding='utf-8-sig')\n",
    "                file_content = file.read().splitlines()\n",
    "                \n",
    "                df = df.append({'season': int(s[-2:]), \n",
    "                                'episode': int(f[4:6]),\n",
    "                                'title': f[7:-4],\n",
    "                                'subtitles': file_content}, ignore_index=True)\n",
    "\n",
    "    # directory does not exist\n",
    "    except FileNotFoundError:\n",
    "        print(\"Directory \" + subtitle_dir + \"/\" + s + \" not found.\")"
   ]
  },
  {
   "cell_type": "code",
   "execution_count": 3,
   "metadata": {},
   "outputs": [
    {
     "data": {
      "text/html": [
       "<div>\n",
       "<style scoped>\n",
       "    .dataframe tbody tr th:only-of-type {\n",
       "        vertical-align: middle;\n",
       "    }\n",
       "\n",
       "    .dataframe tbody tr th {\n",
       "        vertical-align: top;\n",
       "    }\n",
       "\n",
       "    .dataframe thead th {\n",
       "        text-align: right;\n",
       "    }\n",
       "</style>\n",
       "<table border=\"1\" class=\"dataframe\">\n",
       "  <thead>\n",
       "    <tr style=\"text-align: right;\">\n",
       "      <th></th>\n",
       "      <th>season</th>\n",
       "      <th>episode</th>\n",
       "      <th>title</th>\n",
       "      <th>subtitles</th>\n",
       "    </tr>\n",
       "  </thead>\n",
       "  <tbody>\n",
       "    <tr>\n",
       "      <th>0</th>\n",
       "      <td>1</td>\n",
       "      <td>2</td>\n",
       "      <td>eps1.1_ones-and-zer0es.mpeg</td>\n",
       "      <td>[what i am about to tell you is top secret, ev...</td>\n",
       "    </tr>\n",
       "    <tr>\n",
       "      <th>1</th>\n",
       "      <td>1</td>\n",
       "      <td>8</td>\n",
       "      <td>eps1.7_wh1ter0se.m4v</td>\n",
       "      <td>[the redundant backups at their, eastern data ...</td>\n",
       "    </tr>\n",
       "    <tr>\n",
       "      <th>2</th>\n",
       "      <td>1</td>\n",
       "      <td>1</td>\n",
       "      <td>eps1.0_hellofriend.mov</td>\n",
       "      <td>[hello friend, hello friend, that lame, maybe ...</td>\n",
       "    </tr>\n",
       "    <tr>\n",
       "      <th>3</th>\n",
       "      <td>1</td>\n",
       "      <td>3</td>\n",
       "      <td>eps1.2_d3bug.mkv</td>\n",
       "      <td>[i will be the youngest executive, this compan...</td>\n",
       "    </tr>\n",
       "    <tr>\n",
       "      <th>4</th>\n",
       "      <td>1</td>\n",
       "      <td>9</td>\n",
       "      <td>eps1.8_m1rr0r1ng.qt</td>\n",
       "      <td>[exciting time in the world right now,  exciti...</td>\n",
       "    </tr>\n",
       "  </tbody>\n",
       "</table>\n",
       "</div>"
      ],
      "text/plain": [
       "  season episode                        title  \\\n",
       "0      1       2  eps1.1_ones-and-zer0es.mpeg   \n",
       "1      1       8         eps1.7_wh1ter0se.m4v   \n",
       "2      1       1       eps1.0_hellofriend.mov   \n",
       "3      1       3             eps1.2_d3bug.mkv   \n",
       "4      1       9          eps1.8_m1rr0r1ng.qt   \n",
       "\n",
       "                                           subtitles  \n",
       "0  [what i am about to tell you is top secret, ev...  \n",
       "1  [the redundant backups at their, eastern data ...  \n",
       "2  [hello friend, hello friend, that lame, maybe ...  \n",
       "3  [i will be the youngest executive, this compan...  \n",
       "4  [exciting time in the world right now,  exciti...  "
      ]
     },
     "execution_count": 3,
     "metadata": {},
     "output_type": "execute_result"
    }
   ],
   "source": [
    "def clean_subtitles(subtitles):\n",
    "    \"\"\"\n",
    "    Cleans list of strings imported from .srt file.\n",
    "    \n",
    "    Removes:\n",
    "    - numbering\n",
    "    - timestamps\n",
    "    - empty strings\n",
    "    - contractions\n",
    "    - specicial characters\n",
    "    - upper case leters\n",
    "    \n",
    "    Returns: List of remaining strings.\n",
    "    \"\"\"\n",
    "    # remove numbering, empty strings & timestamps\n",
    "    subtitles = [l for l in subtitles if (not l.isdigit() and l != '' and '-->' not in l)]\n",
    "    \n",
    "    # replace contractions\n",
    "    subtitles = [l.replace(\"'m\", \" am\")\n",
    "                  .replace(\"can't\", \"cannot\") \n",
    "                  .replace(\"n't\", \" not\")\n",
    "                  .replace(\"'ve\", \" have\")\n",
    "                  .replace(\"'re\", \" are\")\n",
    "                  .replace(\"'ll\", \" will\")\n",
    "                  .replace(\"'d\", \" would\")\n",
    "                  .replace(\"'s\", \"\") # could be \"is\" or posessive\n",
    "                 for l in subtitles]\n",
    "    \n",
    "    # remove special characters\n",
    "    subtitles = [re.sub(\"[^a-zA-Z0-9 ]\", \"\" , l) for l in subtitles]\n",
    "    \n",
    "    # convert everything to lowercase\n",
    "    subtitles = [l.lower() for l in subtitles]\n",
    "    \n",
    "    return subtitles\n",
    "\n",
    "# apply cleaning function to df\n",
    "df['subtitles'] = df['subtitles'].apply(clean_subtitles)\n",
    "\n",
    "df.head()"
   ]
  },
  {
   "cell_type": "markdown",
   "metadata": {},
   "source": [
    "## Text Analytics\n",
    "\n",
    "- Word Frequency: number of words per song\n",
    "- Word Length: average length of individual words in a text\n",
    "- Lexical Diversity: number of unique words used in a text (song vocabulary)\n",
    "- Lexical Density: the number of unique words divided by the total number of words (word repetition)\n",
    "\n",
    "\n",
    "Identify undesirable words that should be removed."
   ]
  },
  {
   "cell_type": "code",
   "execution_count": null,
   "metadata": {},
   "outputs": [],
   "source": []
  }
 ],
 "metadata": {
  "kernelspec": {
   "display_name": "Python 3",
   "language": "python",
   "name": "python3"
  },
  "language_info": {
   "codemirror_mode": {
    "name": "ipython",
    "version": 3
   },
   "file_extension": ".py",
   "mimetype": "text/x-python",
   "name": "python",
   "nbconvert_exporter": "python",
   "pygments_lexer": "ipython3",
   "version": "3.7.3"
  }
 },
 "nbformat": 4,
 "nbformat_minor": 2
}
